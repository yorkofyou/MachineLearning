{
 "cells": [
  {
   "cell_type": "code",
   "execution_count": 1,
   "metadata": {
    "collapsed": true
   },
   "outputs": [],
   "source": [
    "%matplotlib inline\n",
    "import numpy as np\n",
    "import pandas as pd\n",
    "import matplotlib.pyplot as plt\n",
    "import seaborn as sns"
   ]
  },
  {
   "cell_type": "code",
   "execution_count": 2,
   "outputs": [
    {
     "data": {
      "text/plain": "(12672, 228)"
     },
     "execution_count": 2,
     "metadata": {},
     "output_type": "execute_result"
    }
   ],
   "source": [
    "data = pd.read_csv('../traffic.txt', header=None, delimiter=',')\n",
    "data.shape"
   ],
   "metadata": {
    "collapsed": false,
    "pycharm": {
     "name": "#%%\n"
    }
   }
  },
  {
   "cell_type": "code",
   "execution_count": 3,
   "outputs": [
    {
     "data": {
      "text/plain": "                0             1             2             3             4    \\\ncount  12672.000000  12672.000000  12672.000000  12672.000000  12672.000000   \nmean      52.619539     53.502920     58.040522     56.732434     57.716990   \nstd       19.437685     22.794273     13.061206     10.662338     11.821922   \nmin        3.300000      5.000000     12.300000     20.300000     12.300000   \n25%       31.500000     28.600000     48.600000     53.100000     48.000000   \n50%       59.700000     65.300000     63.000000     60.800000     61.400000   \n75%       69.100000     69.700000     68.100000     64.000000     67.100000   \nmax       80.900000     81.300000     80.400000     72.500000     78.400000   \n\n                5            6             7             8             9    \\\ncount  12672.000000  12672.00000  12672.000000  12672.000000  12672.000000   \nmean      51.347420     50.01542     52.224732     53.118718     51.619957   \nstd       17.216007     18.89860     20.990017     13.589848     14.927841   \nmin        7.000000      4.20000      7.000000     17.700000      8.600000   \n25%       35.600000     30.60000     31.975000     44.900000     43.600000   \n50%       58.800000     59.60000     62.400000     59.700000     55.100000   \n75%       66.700000     66.40000     66.900000     63.100000     63.425000   \nmax       79.100000     78.80000     78.700000     69.200000     75.200000   \n\n       ...           218           219           220           221  \\\ncount  ...  12672.000000  12672.000000  12672.000000  12672.000000   \nmean   ...     65.624621     54.678622     61.904396     52.681218   \nstd    ...      6.404720     16.041653      5.077442     14.923074   \nmin    ...     18.300000      6.400000     14.300000     13.200000   \n25%    ...     64.400000     47.500000     60.500000     42.900000   \n50%    ...     66.600000     60.800000     63.900000     60.100000   \n75%    ...     68.800000     66.700000     64.800000     63.800000   \nmax    ...     75.700000     74.300000     75.000000     69.600000   \n\n                222           223           224           225           226  \\\ncount  12672.000000  12672.000000  12672.000000  12672.000000  12672.000000   \nmean      54.409485     58.005256     61.635590     62.953827     63.472877   \nstd       17.181681     11.706858      5.907869      6.066276      5.934335   \nmin        4.800000     17.700000      3.300000      8.300000      9.700000   \n25%       45.300000     58.400000     60.000000     59.600000     60.600000   \n50%       62.500000     62.800000     63.500000     63.300000     63.700000   \n75%       66.800000     63.700000     64.800000     67.500000     67.500000   \nmax       75.500000     72.700000     75.000000     74.100000     74.200000   \n\n                227  \ncount  12672.000000  \nmean      60.261198  \nstd        8.251305  \nmin        7.800000  \n25%       56.200000  \n50%       62.500000  \n75%       66.100000  \nmax       75.700000  \n\n[8 rows x 228 columns]",
      "text/html": "<div>\n<style scoped>\n    .dataframe tbody tr th:only-of-type {\n        vertical-align: middle;\n    }\n\n    .dataframe tbody tr th {\n        vertical-align: top;\n    }\n\n    .dataframe thead th {\n        text-align: right;\n    }\n</style>\n<table border=\"1\" class=\"dataframe\">\n  <thead>\n    <tr style=\"text-align: right;\">\n      <th></th>\n      <th>0</th>\n      <th>1</th>\n      <th>2</th>\n      <th>3</th>\n      <th>4</th>\n      <th>5</th>\n      <th>6</th>\n      <th>7</th>\n      <th>8</th>\n      <th>9</th>\n      <th>...</th>\n      <th>218</th>\n      <th>219</th>\n      <th>220</th>\n      <th>221</th>\n      <th>222</th>\n      <th>223</th>\n      <th>224</th>\n      <th>225</th>\n      <th>226</th>\n      <th>227</th>\n    </tr>\n  </thead>\n  <tbody>\n    <tr>\n      <th>count</th>\n      <td>12672.000000</td>\n      <td>12672.000000</td>\n      <td>12672.000000</td>\n      <td>12672.000000</td>\n      <td>12672.000000</td>\n      <td>12672.000000</td>\n      <td>12672.00000</td>\n      <td>12672.000000</td>\n      <td>12672.000000</td>\n      <td>12672.000000</td>\n      <td>...</td>\n      <td>12672.000000</td>\n      <td>12672.000000</td>\n      <td>12672.000000</td>\n      <td>12672.000000</td>\n      <td>12672.000000</td>\n      <td>12672.000000</td>\n      <td>12672.000000</td>\n      <td>12672.000000</td>\n      <td>12672.000000</td>\n      <td>12672.000000</td>\n    </tr>\n    <tr>\n      <th>mean</th>\n      <td>52.619539</td>\n      <td>53.502920</td>\n      <td>58.040522</td>\n      <td>56.732434</td>\n      <td>57.716990</td>\n      <td>51.347420</td>\n      <td>50.01542</td>\n      <td>52.224732</td>\n      <td>53.118718</td>\n      <td>51.619957</td>\n      <td>...</td>\n      <td>65.624621</td>\n      <td>54.678622</td>\n      <td>61.904396</td>\n      <td>52.681218</td>\n      <td>54.409485</td>\n      <td>58.005256</td>\n      <td>61.635590</td>\n      <td>62.953827</td>\n      <td>63.472877</td>\n      <td>60.261198</td>\n    </tr>\n    <tr>\n      <th>std</th>\n      <td>19.437685</td>\n      <td>22.794273</td>\n      <td>13.061206</td>\n      <td>10.662338</td>\n      <td>11.821922</td>\n      <td>17.216007</td>\n      <td>18.89860</td>\n      <td>20.990017</td>\n      <td>13.589848</td>\n      <td>14.927841</td>\n      <td>...</td>\n      <td>6.404720</td>\n      <td>16.041653</td>\n      <td>5.077442</td>\n      <td>14.923074</td>\n      <td>17.181681</td>\n      <td>11.706858</td>\n      <td>5.907869</td>\n      <td>6.066276</td>\n      <td>5.934335</td>\n      <td>8.251305</td>\n    </tr>\n    <tr>\n      <th>min</th>\n      <td>3.300000</td>\n      <td>5.000000</td>\n      <td>12.300000</td>\n      <td>20.300000</td>\n      <td>12.300000</td>\n      <td>7.000000</td>\n      <td>4.20000</td>\n      <td>7.000000</td>\n      <td>17.700000</td>\n      <td>8.600000</td>\n      <td>...</td>\n      <td>18.300000</td>\n      <td>6.400000</td>\n      <td>14.300000</td>\n      <td>13.200000</td>\n      <td>4.800000</td>\n      <td>17.700000</td>\n      <td>3.300000</td>\n      <td>8.300000</td>\n      <td>9.700000</td>\n      <td>7.800000</td>\n    </tr>\n    <tr>\n      <th>25%</th>\n      <td>31.500000</td>\n      <td>28.600000</td>\n      <td>48.600000</td>\n      <td>53.100000</td>\n      <td>48.000000</td>\n      <td>35.600000</td>\n      <td>30.60000</td>\n      <td>31.975000</td>\n      <td>44.900000</td>\n      <td>43.600000</td>\n      <td>...</td>\n      <td>64.400000</td>\n      <td>47.500000</td>\n      <td>60.500000</td>\n      <td>42.900000</td>\n      <td>45.300000</td>\n      <td>58.400000</td>\n      <td>60.000000</td>\n      <td>59.600000</td>\n      <td>60.600000</td>\n      <td>56.200000</td>\n    </tr>\n    <tr>\n      <th>50%</th>\n      <td>59.700000</td>\n      <td>65.300000</td>\n      <td>63.000000</td>\n      <td>60.800000</td>\n      <td>61.400000</td>\n      <td>58.800000</td>\n      <td>59.60000</td>\n      <td>62.400000</td>\n      <td>59.700000</td>\n      <td>55.100000</td>\n      <td>...</td>\n      <td>66.600000</td>\n      <td>60.800000</td>\n      <td>63.900000</td>\n      <td>60.100000</td>\n      <td>62.500000</td>\n      <td>62.800000</td>\n      <td>63.500000</td>\n      <td>63.300000</td>\n      <td>63.700000</td>\n      <td>62.500000</td>\n    </tr>\n    <tr>\n      <th>75%</th>\n      <td>69.100000</td>\n      <td>69.700000</td>\n      <td>68.100000</td>\n      <td>64.000000</td>\n      <td>67.100000</td>\n      <td>66.700000</td>\n      <td>66.40000</td>\n      <td>66.900000</td>\n      <td>63.100000</td>\n      <td>63.425000</td>\n      <td>...</td>\n      <td>68.800000</td>\n      <td>66.700000</td>\n      <td>64.800000</td>\n      <td>63.800000</td>\n      <td>66.800000</td>\n      <td>63.700000</td>\n      <td>64.800000</td>\n      <td>67.500000</td>\n      <td>67.500000</td>\n      <td>66.100000</td>\n    </tr>\n    <tr>\n      <th>max</th>\n      <td>80.900000</td>\n      <td>81.300000</td>\n      <td>80.400000</td>\n      <td>72.500000</td>\n      <td>78.400000</td>\n      <td>79.100000</td>\n      <td>78.80000</td>\n      <td>78.700000</td>\n      <td>69.200000</td>\n      <td>75.200000</td>\n      <td>...</td>\n      <td>75.700000</td>\n      <td>74.300000</td>\n      <td>75.000000</td>\n      <td>69.600000</td>\n      <td>75.500000</td>\n      <td>72.700000</td>\n      <td>75.000000</td>\n      <td>74.100000</td>\n      <td>74.200000</td>\n      <td>75.700000</td>\n    </tr>\n  </tbody>\n</table>\n<p>8 rows × 228 columns</p>\n</div>"
     },
     "execution_count": 3,
     "metadata": {},
     "output_type": "execute_result"
    }
   ],
   "source": [
    "data.describe()"
   ],
   "metadata": {
    "collapsed": false,
    "pycharm": {
     "name": "#%%\n"
    }
   }
  },
  {
   "cell_type": "code",
   "execution_count": 4,
   "outputs": [
    {
     "data": {
      "text/plain": "    0     1     2     3     4     5     6     7     8     9    ...   218  \\\n0  71.1  66.0  64.6  65.6  67.1  71.9  68.6  67.7  65.8  40.9  ...  69.1   \n1  68.1  66.8  61.7  66.7  64.5  71.6  72.3  64.9  65.6  40.1  ...  70.6   \n2  68.0  64.3  66.6  68.7  68.1  70.5  70.2  61.7  63.4  39.6  ...  72.2   \n3  68.3  67.8  65.9  66.6  67.9  70.3  69.8  67.6  63.2  37.6  ...  71.2   \n4  68.9  69.5  61.2  67.4  64.0  68.1  67.0  66.7  64.2  36.8  ...  71.3   \n\n    219   220   221   222   223   224   225   226   227  \n0  70.9  65.0  64.5  66.6  66.6  65.0  69.3  67.7  68.9  \n1  65.4  65.0  64.9  65.1  67.7  65.0  67.7  68.8  68.8  \n2  70.5  65.0  64.7  66.7  68.9  65.0  70.2  69.1  68.7  \n3  69.7  65.0  65.2  67.2  66.9  65.0  70.4  67.3  69.0  \n4  65.8  65.0  66.3  66.7  66.2  65.0  68.0  67.4  68.1  \n\n[5 rows x 228 columns]",
      "text/html": "<div>\n<style scoped>\n    .dataframe tbody tr th:only-of-type {\n        vertical-align: middle;\n    }\n\n    .dataframe tbody tr th {\n        vertical-align: top;\n    }\n\n    .dataframe thead th {\n        text-align: right;\n    }\n</style>\n<table border=\"1\" class=\"dataframe\">\n  <thead>\n    <tr style=\"text-align: right;\">\n      <th></th>\n      <th>0</th>\n      <th>1</th>\n      <th>2</th>\n      <th>3</th>\n      <th>4</th>\n      <th>5</th>\n      <th>6</th>\n      <th>7</th>\n      <th>8</th>\n      <th>9</th>\n      <th>...</th>\n      <th>218</th>\n      <th>219</th>\n      <th>220</th>\n      <th>221</th>\n      <th>222</th>\n      <th>223</th>\n      <th>224</th>\n      <th>225</th>\n      <th>226</th>\n      <th>227</th>\n    </tr>\n  </thead>\n  <tbody>\n    <tr>\n      <th>0</th>\n      <td>71.1</td>\n      <td>66.0</td>\n      <td>64.6</td>\n      <td>65.6</td>\n      <td>67.1</td>\n      <td>71.9</td>\n      <td>68.6</td>\n      <td>67.7</td>\n      <td>65.8</td>\n      <td>40.9</td>\n      <td>...</td>\n      <td>69.1</td>\n      <td>70.9</td>\n      <td>65.0</td>\n      <td>64.5</td>\n      <td>66.6</td>\n      <td>66.6</td>\n      <td>65.0</td>\n      <td>69.3</td>\n      <td>67.7</td>\n      <td>68.9</td>\n    </tr>\n    <tr>\n      <th>1</th>\n      <td>68.1</td>\n      <td>66.8</td>\n      <td>61.7</td>\n      <td>66.7</td>\n      <td>64.5</td>\n      <td>71.6</td>\n      <td>72.3</td>\n      <td>64.9</td>\n      <td>65.6</td>\n      <td>40.1</td>\n      <td>...</td>\n      <td>70.6</td>\n      <td>65.4</td>\n      <td>65.0</td>\n      <td>64.9</td>\n      <td>65.1</td>\n      <td>67.7</td>\n      <td>65.0</td>\n      <td>67.7</td>\n      <td>68.8</td>\n      <td>68.8</td>\n    </tr>\n    <tr>\n      <th>2</th>\n      <td>68.0</td>\n      <td>64.3</td>\n      <td>66.6</td>\n      <td>68.7</td>\n      <td>68.1</td>\n      <td>70.5</td>\n      <td>70.2</td>\n      <td>61.7</td>\n      <td>63.4</td>\n      <td>39.6</td>\n      <td>...</td>\n      <td>72.2</td>\n      <td>70.5</td>\n      <td>65.0</td>\n      <td>64.7</td>\n      <td>66.7</td>\n      <td>68.9</td>\n      <td>65.0</td>\n      <td>70.2</td>\n      <td>69.1</td>\n      <td>68.7</td>\n    </tr>\n    <tr>\n      <th>3</th>\n      <td>68.3</td>\n      <td>67.8</td>\n      <td>65.9</td>\n      <td>66.6</td>\n      <td>67.9</td>\n      <td>70.3</td>\n      <td>69.8</td>\n      <td>67.6</td>\n      <td>63.2</td>\n      <td>37.6</td>\n      <td>...</td>\n      <td>71.2</td>\n      <td>69.7</td>\n      <td>65.0</td>\n      <td>65.2</td>\n      <td>67.2</td>\n      <td>66.9</td>\n      <td>65.0</td>\n      <td>70.4</td>\n      <td>67.3</td>\n      <td>69.0</td>\n    </tr>\n    <tr>\n      <th>4</th>\n      <td>68.9</td>\n      <td>69.5</td>\n      <td>61.2</td>\n      <td>67.4</td>\n      <td>64.0</td>\n      <td>68.1</td>\n      <td>67.0</td>\n      <td>66.7</td>\n      <td>64.2</td>\n      <td>36.8</td>\n      <td>...</td>\n      <td>71.3</td>\n      <td>65.8</td>\n      <td>65.0</td>\n      <td>66.3</td>\n      <td>66.7</td>\n      <td>66.2</td>\n      <td>65.0</td>\n      <td>68.0</td>\n      <td>67.4</td>\n      <td>68.1</td>\n    </tr>\n  </tbody>\n</table>\n<p>5 rows × 228 columns</p>\n</div>"
     },
     "execution_count": 4,
     "metadata": {},
     "output_type": "execute_result"
    }
   ],
   "source": [
    "data.head()"
   ],
   "metadata": {
    "collapsed": false,
    "pycharm": {
     "name": "#%%\n"
    }
   }
  }
 ],
 "metadata": {
  "kernelspec": {
   "display_name": "Python 3",
   "language": "python",
   "name": "python3"
  },
  "language_info": {
   "codemirror_mode": {
    "name": "ipython",
    "version": 2
   },
   "file_extension": ".py",
   "mimetype": "text/x-python",
   "name": "python",
   "nbconvert_exporter": "python",
   "pygments_lexer": "ipython2",
   "version": "2.7.6"
  }
 },
 "nbformat": 4,
 "nbformat_minor": 0
}